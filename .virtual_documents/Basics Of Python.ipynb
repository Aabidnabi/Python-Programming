





print("Hello Python!")


print("Learn Python","Data Science in" , 2025)





name = "Alice"
age = 25
city = "New York"

print("Name:", name)
print("Age:", age)
print("City:", city)



print("Name:", name, "| Age:", age, "| City:", city)



#Using f-strings:
print(f"My name is {name}, I'm {age} years old and I live in {city}.")



#Using + to concatenate strings:
print("My name is " + name + " and I live in " + city)



print("I am " + str(age) + " years old.")













x = 10
y = 0.10
z = 2 + 3j
name = "Python"
fruits = ["apple", "banana", "cherry"]
coordinates = (10, 20)
r = range(5)
person = {"name": "Alice", "age": 30}
unique_numbers = {1, 2, 3}
frozen = frozenset([1, 2, 3])
is_active = True
result = None



print([type(v) for v in [x, y, z, name, fruits, coordinates, r, person,unique_numbers,frozen,is_active,result]])






print(id(x))


#To check memory addresses of multiple variables 
print({name: id(eval(name)) for name in ['x', 'y', 'z']})





x = 10
print (x)


x = "python programming"
print(x)
type(x)


id(x)



















































