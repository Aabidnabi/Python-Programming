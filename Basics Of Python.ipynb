{
 "cells": [
  {
   "cell_type": "markdown",
   "id": "abc53b33-430d-435f-b65e-fca453058eda",
   "metadata": {},
   "source": [
    "# **INTRODUCTION TO PYTHON PROGRAMMING**\n",
    "# **What is Python?**\n",
    "Python is a powerful, high-level, interpreted programming language known for its simplicity, readability, and versatility. Created by Guido van Rossum and first released in 1991, Python emphasizes clean syntax and supports multiple programming paradigms, including object-oriented, procedural, and functional programming.\n",
    "# **Key Features:**\n",
    "1. Easy to learn and write (Readable and intuitive syntax)  \n",
    "2. Supports OOP concepts  \n",
    "3. Interpreted and dynamically typed  \n",
    "4. Large standard library  \n",
    "5. Extensive third-party packages (e.g., NumPy, Pandas, Django, Flask, TensorFlow)  \n",
    "6. Cross-platform compatibility  \n",
    "7. Open source and continuously evolving  \n",
    "8. Large community support  \n",
    "9. Strong integration with other languages and tools  \n",
    "10. Built-in libraries  \n",
    "11. Dynamically typed and type checking  \n",
    "12. Automated garbage collection  \n",
    "# **Common Uses of Python:**\n",
    "### ✅ 1. Web Development  \n",
    "Frameworks like **Django** and **Flask** allow rapid development of web apps and REST APIs.  \n",
    "Used in modern backend stacks and for creating scalable web services.\n",
    "### ✅ 2. Data Science & Analytics  \n",
    "Widely used for **data analysis**, **data visualization**, and **statistical modeling** with tools like **Pandas**, **Matplotlib**, and **Seaborn**.  \n",
    "**Jupyter Notebooks** make Python a favorite in the research and education space.\n",
    "### ✅ 3. Machine Learning & AI  \n",
    "Essential for **AI/ML development** with libraries like **TensorFlow**, **PyTorch**, **scikit-learn**, and **Keras**.  \n",
    "Used in applications like **chatbots**, **recommendation engines**, and **image recognition**.\n",
    "### ✅ 4. Automation & Scripting  \n",
    "Commonly used for writing **automation scripts**, **web scraping**, and **task scheduling**.  \n",
    "Tools like **Selenium**, **BeautifulSoup**, and **PyAutoGUI** are popular in automation workflows.\n",
    "### ✅ 5. Game Development  \n",
    "Frameworks like **Pygame** support simple game development.  \n",
    "Also used in scripting for large engines like **Blender**.\n",
    "### ✅ 6. Cybersecurity & Ethical Hacking  \n",
    "Scripts for **penetration testing**, **network scanning**, and **malware analysis**.  \n",
    "Tools like **Scapy**, **Impacket**, and **Pwntools** are Python-based.\n",
    "### ✅ 7. Internet of Things (IoT)  \n",
    "Python (especially with **MicroPython**) is used on devices like **Raspberry Pi** for hardware projects and sensor integration.\n",
    "### ✅ 8. Cloud & DevOps  \n",
    "Automation scripts for infrastructure using **AWS SDK (Boto3)**, **Azure SDK**, and **Terraform integrations**.  \n",
    "**CI/CD pipelines** often use Python for testing and deployment tasks.\n",
    "### ✅ 9. Blockchain and Web3  \n",
    "Used to interact with blockchains (e.g., via **web3.py** for Ethereum).  \n",
    "Developing **smart contracts**, **wallets**, and **crypto trading bots**.\n",
    "### ✅ 10. Generative AI (2024 Trend)  \n",
    "Powering **AI agents**, **LLM applications**, and **chatbot frameworks** using **LangChain**, **HuggingFace Transformers**, and **OpenAI API**.  \n",
    "Used in developing **AI-driven tools** for **text generation**, **code completion**, and **creative media**.\n",
    "\n",
    "# **Latest & Trending Python Applications (2024–2025)**\n",
    "- **Generative AI & LLMs**: Using Python with OpenAI’s GPT models or custom LLMs via LangChain, Transformers, and LLM inference.  \n",
    "- **Data-Centric AI**: Python tools like **Great Expectations** are used for data quality and validation in AI pipelines.  \n",
    "- **Edge AI & IoT**: Python with **TensorFlow Lite** or **Edge Impulse** for deploying ML models on embedded devices.  \n",
    "- **Quantum Computing**: With frameworks like **Qiskit** (IBM), Python is entering quantum algorithm development.  \n",
    "- **AutoML**: Tools like **Auto-sklearn**, **H2O.ai**, and **DataRobot** simplify model selection and tuning using Python.\n",
    "\n",
    "# **Summary**  \n",
    "Python is the backbone of modern data science and AI. Whether you're cleaning data, training machine learning models, building dashboards, or deploying APIs, Python provides the tools and ecosystem to do it all efficiently.\n"
   ]
  },
  {
   "cell_type": "markdown",
   "id": "79088715-9a31-418c-85d3-549a14b69717",
   "metadata": {},
   "source": [
    "# print()  \n",
    "The print() function outputs the given message or variable(s) to the console/terminal.\n"
   ]
  },
  {
   "cell_type": "code",
   "execution_count": 4,
   "id": "0933e3ee-310c-4830-8371-db38191ed3d9",
   "metadata": {},
   "outputs": [
    {
     "name": "stdout",
     "output_type": "stream",
     "text": [
      "Hello Python!\n"
     ]
    }
   ],
   "source": [
    "print(\"Hello Python!\")"
   ]
  },
  {
   "cell_type": "code",
   "execution_count": 7,
   "id": "9876e640-ea4e-4eff-a7f7-09a2e2bba948",
   "metadata": {},
   "outputs": [
    {
     "name": "stdout",
     "output_type": "stream",
     "text": [
      "Learn Python Data Science in 2025\n"
     ]
    }
   ],
   "source": [
    "print(\"Learn Python\",\"Data Science in\" , 2025)"
   ]
  },
  {
   "cell_type": "markdown",
   "id": "6515409b-829f-4e80-a0d9-0246fe717cb9",
   "metadata": {},
   "source": [
    "#  **What is a variable?**\n",
    "A variable is like a container/placeholder that stores data. You give it a name, assign a value, and then you can use it later."
   ]
  },
  {
   "cell_type": "code",
   "execution_count": 1,
   "id": "ea03fb16-0ffe-4eb7-99a9-ebae9966206c",
   "metadata": {},
   "outputs": [
    {
     "name": "stdout",
     "output_type": "stream",
     "text": [
      "Name: Alice\n",
      "Age: 25\n",
      "City: New York\n"
     ]
    }
   ],
   "source": [
    "name = \"Alice\"\n",
    "age = 25\n",
    "city = \"New York\"\n",
    "\n",
    "print(\"Name:\", name)\n",
    "print(\"Age:\", age)\n",
    "print(\"City:\", city)\n"
   ]
  },
  {
   "cell_type": "code",
   "execution_count": 2,
   "id": "cf7125f6-07c8-4160-b1d6-c59fa0d2af6e",
   "metadata": {},
   "outputs": [
    {
     "name": "stdout",
     "output_type": "stream",
     "text": [
      "Name: Alice | Age: 25 | City: New York\n"
     ]
    }
   ],
   "source": [
    "print(\"Name:\", name, \"| Age:\", age, \"| City:\", city)\n"
   ]
  },
  {
   "cell_type": "code",
   "execution_count": 4,
   "id": "99df8837-b0f4-474b-bf4d-7efb233f9c13",
   "metadata": {},
   "outputs": [
    {
     "name": "stdout",
     "output_type": "stream",
     "text": [
      "My name is Alice, I'm 25 years old and I live in New York.\n"
     ]
    }
   ],
   "source": [
    "#Using f-strings:\n",
    "print(f\"My name is {name}, I'm {age} years old and I live in {city}.\")\n"
   ]
  },
  {
   "cell_type": "code",
   "execution_count": 5,
   "id": "fd65fa4d-b298-422b-a592-dc594a7be18b",
   "metadata": {},
   "outputs": [
    {
     "name": "stdout",
     "output_type": "stream",
     "text": [
      "My name is Alice and I live in New York\n"
     ]
    }
   ],
   "source": [
    "#Using + to concatenate strings:\n",
    "print(\"My name is \" + name + \" and I live in \" + city)\n"
   ]
  },
  {
   "cell_type": "code",
   "execution_count": 6,
   "id": "cd75a454-7cd3-4dba-a5bf-23934a5c1473",
   "metadata": {},
   "outputs": [
    {
     "name": "stdout",
     "output_type": "stream",
     "text": [
      "I am 25 years old.\n"
     ]
    }
   ],
   "source": [
    "print(\"I am \" + str(age) + \" years old.\")\n"
   ]
  },
  {
   "cell_type": "markdown",
   "id": "953e8631-45fe-41d3-8752-f3edb9529707",
   "metadata": {},
   "source": [
    "# Identifiers\n",
    "In Python, identifiers are names used to identify variables, functions, classes, modules, or other objects. They follow certain rules and conventions:\n",
    "\n",
    "# Rules for Identifiers\n",
    "\n",
    "### 1. Start with a letter (a-z, A-Z) or an underscore (_):\n",
    "- **Valid**:\n",
    "  x,_variable,MyClass\n",
    "- **Invalid**:\n",
    "  1variable (cannot start with a number)\n",
    "\n",
    "### 2. Followed by letters, digits (0-9), or underscores (_):\n",
    "- **Valid**:\n",
    "   my_variable,var_123,foo1\n",
    "- **Invalid**:\n",
    "  my-variable (hyphen is not allowed)\n",
    "\n",
    "### 3. Case-sensitive:\n",
    " - Python identifiers are case-sensitive, so Variable and variable are different.\n",
    "\n",
    "### 4. Cannot be a Python reserved keyword:\n",
    "- Keywords like `if`, `else`, `while`, `class`, `def`, etc., cannot be used as identifiers.\n",
    "- We can check a list of keywords using `import keyword` and `keyword.kwlist`.\n",
    "\n",
    "### 5. No spaces allowed:\n",
    "- **Valid**: myVariable,some_function`\n",
    "- **Invalid**: my variable` (spaces are not allowed in identifiers)\n",
    "# Common Conventions:\n",
    " - Variable names: Typically written in lowercase with underscores separating words (snake_case).\n",
    "\n",
    "Example: my_variable, total_sum\n",
    "\n",
    "- Function names: Also in lowercase with underscores (snake_case).\n",
    "\n",
    "Example: calculate_total(), print_message()\n",
    "\n",
    "- Class names: Usually written in CamelCase (capitalizing each word).\n",
    "\n",
    "Example: MyClass, BankAccount\n",
    "\n",
    "- Constants: Written in uppercase with underscores separating words (UPPERCASE_SNAKE_CASE).\n",
    "\n",
    "Example: PI, MAX_SIZE\n"
   ]
  },
  {
   "cell_type": "raw",
   "id": "97fe8b69-1586-4eca-950b-17aab57e8177",
   "metadata": {},
   "source": [
    "# Valid identifiers\n",
    "x = 10\n",
    "_my_variable = 20\n",
    "calculate_area = 30\n",
    "\n",
    "# Invalid identifiers\n",
    "1variable = 40  # Invalid, starts with a number\n",
    "my-variable = 50  # Invalid, contains a hyphen\n",
    "class = 60  # Invalid, 'class' is a keyword"
   ]
  },
  {
   "cell_type": "markdown",
   "id": "bde55411-5ace-47cd-ba91-d1f5be71cfcb",
   "metadata": {},
   "source": [
    "# Introduction to Data Types in Python\n",
    "In Python, data types define the kind of value a variable holds. They help the interpreter understand how to store and manipulate data efficiently.\n",
    "\n",
    "# Why Data Types Are Important\n",
    "- Help manage memory efficiently\n",
    "- Define valid operations for variables\n",
    "- Prevent errors in arithmetic or logical operations\n",
    "#  Built-in Data Types in Python\n",
    "Python provides several built-in data types. Below is a categorized list with short descriptions and examples:\n",
    "- int\n",
    "- float\n",
    "- string\n",
    "- Boolean\n",
    "- None\n",
    "\n",
    "# 🧮 Numeric Types\n",
    "- int – Represents whole numbers\n",
    "Example: x = 10\n",
    "- float – Represents decimal (floating-point) numbers\n",
    "Example: y = 3.14\n",
    "- complex – Represents complex numbers (real + imaginary part)\n",
    "Example: z = 2 + 3j\n",
    "\n",
    "# 🔤 Text Type\n",
    "- str – A sequence of Unicode characters (strings)\n",
    "Example: name = \"Python\"\n",
    "\n",
    "# 📚 Sequence Types\n",
    "- list – Ordered and mutable (changeable) collection\n",
    "Example: fruits = [\"apple\", \"banana\"]\n",
    "- tuple – Ordered and immutable collection\n",
    "Example: coords = (10, 20)\n",
    "- range – Sequence of numbers, commonly used in loops\n",
    "Example: r = range(5)\n",
    "\n",
    "# 🧭 Mapping Type\n",
    "- dict – Collection of key-value pairs\n",
    "Example: person = {\"name\": \"Alice\"}\n",
    "\n",
    "# 🔘 Set Types\n",
    "- set – Unordered collection of unique items\n",
    "Example: s = {1, 2, 3}\n",
    "- frozenset – Immutable version of a set\n",
    "Example: f = frozenset([1, 2])\n",
    "\n",
    "# ✅ Boolean Type\n",
    "- bool – Logical values: True or False\n",
    "Example: is_valid = True\n",
    "\n",
    "# 🚫 None Type\n",
    "- NoneType – Represents the absence of a value\n",
    "Example: data = None\n",
    "\n",
    "# Data Type of a Variable\n",
    "All the variables have data types,Data types classify the type of value a variable holds.Use `type(var)` to check the datatype."
   ]
  },
  {
   "cell_type": "code",
   "execution_count": 10,
   "id": "5a022077-ec97-40f1-bcf1-d307e654f52e",
   "metadata": {},
   "outputs": [],
   "source": [
    "\n",
    "x = 10\n",
    "y = 0.10\n",
    "z = 2 + 3j\n",
    "name = \"Python\"\n",
    "fruits = [\"apple\", \"banana\", \"cherry\"]\n",
    "coordinates = (10, 20)\n",
    "r = range(5)\n",
    "person = {\"name\": \"Alice\", \"age\": 30}\n",
    "unique_numbers = {1, 2, 3}\n",
    "frozen = frozenset([1, 2, 3])\n",
    "is_active = True\n",
    "result = None\n"
   ]
  },
  {
   "cell_type": "code",
   "execution_count": 11,
   "id": "d5360fb7-d2f0-45cf-af17-3bc75c89a635",
   "metadata": {},
   "outputs": [
    {
     "name": "stdout",
     "output_type": "stream",
     "text": [
      "[<class 'int'>, <class 'float'>, <class 'complex'>, <class 'str'>, <class 'list'>, <class 'tuple'>, <class 'range'>, <class 'dict'>, <class 'set'>, <class 'frozenset'>, <class 'bool'>, <class 'NoneType'>]\n"
     ]
    }
   ],
   "source": [
    "print([type(v) for v in [x, y, z, name, fruits, coordinates, r, person,unique_numbers,frozen,is_active,result]])\n"
   ]
  },
  {
   "cell_type": "markdown",
   "id": "bbf40ce0-d784-48b5-942c-e62458932157",
   "metadata": {},
   "source": [
    "# Location of a variable\n",
    "To check the memory location (address) of a variable in Python, we use the built-in id() function."
   ]
  },
  {
   "cell_type": "code",
   "execution_count": 14,
   "id": "bfff4845-58a5-4044-867d-9bcc9c92c6f4",
   "metadata": {},
   "outputs": [
    {
     "name": "stdout",
     "output_type": "stream",
     "text": [
      "140734377437912\n"
     ]
    }
   ],
   "source": [
    "print(id(x))"
   ]
  },
  {
   "cell_type": "code",
   "execution_count": 15,
   "id": "e5b7df17-53d1-44a4-8a6e-403cc4168d9f",
   "metadata": {},
   "outputs": [
    {
     "name": "stdout",
     "output_type": "stream",
     "text": [
      "{'x': 140734377437912, 'y': 2726776827344, 'z': 2726790299216}\n"
     ]
    }
   ],
   "source": [
    "#To check memory addresses of multiple variables \n",
    "print({name: id(eval(name)) for name in ['x', 'y', 'z']})"
   ]
  },
  {
   "cell_type": "markdown",
   "id": "76d5fd57-9de1-46e8-a905-12d83a3bd5fa",
   "metadata": {},
   "source": [
    "# Dynamic Typed\n",
    "- Python is dynamic typed language\n",
    "- Same Variables can take values of different data-types\n"
   ]
  },
  {
   "cell_type": "code",
   "execution_count": 16,
   "id": "158b9d2a-dbb1-4751-9057-c589f77f67f5",
   "metadata": {},
   "outputs": [
    {
     "name": "stdout",
     "output_type": "stream",
     "text": [
      "10\n"
     ]
    }
   ],
   "source": [
    "x = 10\n",
    "print (x)"
   ]
  },
  {
   "cell_type": "code",
   "execution_count": 22,
   "id": "436413b7-026a-43fb-a35e-c54402f35e0c",
   "metadata": {},
   "outputs": [
    {
     "name": "stdout",
     "output_type": "stream",
     "text": [
      "python programming\n"
     ]
    },
    {
     "data": {
      "text/plain": [
       "str"
      ]
     },
     "execution_count": 22,
     "metadata": {},
     "output_type": "execute_result"
    }
   ],
   "source": [
    "x = \"python programming\"\n",
    "print(x)\n",
    "type(x)"
   ]
  },
  {
   "cell_type": "code",
   "execution_count": 23,
   "id": "31a676dc-3544-4e0b-a74c-ed81712e8e68",
   "metadata": {},
   "outputs": [
    {
     "data": {
      "text/plain": [
       "2726777247792"
      ]
     },
     "execution_count": 23,
     "metadata": {},
     "output_type": "execute_result"
    }
   ],
   "source": [
    "id(x)"
   ]
  },
  {
   "cell_type": "code",
   "execution_count": null,
   "id": "6f1af424-6766-478a-9cee-801a1a77f762",
   "metadata": {},
   "outputs": [],
   "source": []
  },
  {
   "cell_type": "code",
   "execution_count": null,
   "id": "7f22a70c-f4e8-4533-bb9f-1b1b4f5fb078",
   "metadata": {},
   "outputs": [],
   "source": []
  },
  {
   "cell_type": "code",
   "execution_count": null,
   "id": "e3038e04-b0ed-45bf-b98e-c70783afe848",
   "metadata": {},
   "outputs": [],
   "source": []
  },
  {
   "cell_type": "code",
   "execution_count": null,
   "id": "7d1a9328-2dfc-4cd8-927b-897d5c0e94f3",
   "metadata": {},
   "outputs": [],
   "source": []
  },
  {
   "cell_type": "code",
   "execution_count": null,
   "id": "8bdc103b-2a0d-4811-ab1a-96759d52e571",
   "metadata": {},
   "outputs": [],
   "source": []
  },
  {
   "cell_type": "code",
   "execution_count": null,
   "id": "801417dc-5335-4f69-b48e-6a5fd05a9fd3",
   "metadata": {},
   "outputs": [],
   "source": []
  },
  {
   "cell_type": "code",
   "execution_count": null,
   "id": "7c8cbb36-a790-4124-a349-c87366e1971a",
   "metadata": {},
   "outputs": [],
   "source": []
  },
  {
   "cell_type": "code",
   "execution_count": null,
   "id": "6647d6b7-2b23-4252-bcc2-89a51e0dc898",
   "metadata": {},
   "outputs": [],
   "source": []
  },
  {
   "cell_type": "code",
   "execution_count": null,
   "id": "2f1401e7-73be-4247-b7b4-412fe9fa3510",
   "metadata": {},
   "outputs": [],
   "source": []
  },
  {
   "cell_type": "code",
   "execution_count": null,
   "id": "c7c3f0e5-e8d3-4b1f-af95-e5baf628c67e",
   "metadata": {},
   "outputs": [],
   "source": []
  },
  {
   "cell_type": "code",
   "execution_count": null,
   "id": "f3c5ff66-0c01-4a94-885a-c49a1ca19b17",
   "metadata": {},
   "outputs": [],
   "source": []
  },
  {
   "cell_type": "code",
   "execution_count": null,
   "id": "3c326ad8-295c-4025-a894-27e65f08d68c",
   "metadata": {},
   "outputs": [],
   "source": []
  },
  {
   "cell_type": "code",
   "execution_count": null,
   "id": "e8636759-b9de-4ca7-a838-e54f64146202",
   "metadata": {},
   "outputs": [],
   "source": []
  },
  {
   "cell_type": "code",
   "execution_count": null,
   "id": "b2d5d84a-a170-40a7-86b9-0bae47e6bf4f",
   "metadata": {},
   "outputs": [],
   "source": []
  },
  {
   "cell_type": "code",
   "execution_count": null,
   "id": "f230b4c6-6a18-4474-a016-375a99e494c2",
   "metadata": {},
   "outputs": [],
   "source": []
  },
  {
   "cell_type": "code",
   "execution_count": null,
   "id": "a344fa42-62c3-4222-87aa-1d9d3cf1988a",
   "metadata": {},
   "outputs": [],
   "source": []
  },
  {
   "cell_type": "code",
   "execution_count": null,
   "id": "d810477c-de08-4b64-97d1-e7b3cad81b31",
   "metadata": {},
   "outputs": [],
   "source": []
  }
 ],
 "metadata": {
  "kernelspec": {
   "display_name": "Python [conda env:base] *",
   "language": "python",
   "name": "conda-base-py"
  },
  "language_info": {
   "codemirror_mode": {
    "name": "ipython",
    "version": 3
   },
   "file_extension": ".py",
   "mimetype": "text/x-python",
   "name": "python",
   "nbconvert_exporter": "python",
   "pygments_lexer": "ipython3",
   "version": "3.12.7"
  }
 },
 "nbformat": 4,
 "nbformat_minor": 5
}
